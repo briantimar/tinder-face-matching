{
 "cells": [
  {
   "cell_type": "code",
   "execution_count": 1,
   "metadata": {},
   "outputs": [
    {
     "name": "stdout",
     "output_type": "stream",
     "text": [
      "access token could not be retrieved. Check your username and password.\n",
      "Official error: 400 Bad Request: The browser (or proxy) sent a request that this server could not understand.\n"
     ]
    }
   ],
   "source": [
    "import requests\n",
    "import tinder_api_sms"
   ]
  },
  {
   "cell_type": "code",
   "execution_count": 2,
   "metadata": {
    "collapsed": true
   },
   "outputs": [],
   "source": [
    "import utils"
   ]
  },
  {
   "cell_type": "code",
   "execution_count": 3,
   "metadata": {
    "collapsed": true
   },
   "outputs": [],
   "source": [
    "self = tinder_api_sms.get_self()"
   ]
  },
  {
   "cell_type": "code",
   "execution_count": 4,
   "metadata": {
    "collapsed": true
   },
   "outputs": [],
   "source": [
    "recs = tinder_api_sms.get_recommendations()"
   ]
  },
  {
   "cell_type": "code",
   "execution_count": 5,
   "metadata": {},
   "outputs": [],
   "source": [
    "testid =recs['results'][7]['_id']"
   ]
  },
  {
   "cell_type": "code",
   "execution_count": 6,
   "metadata": {
    "collapsed": true
   },
   "outputs": [],
   "source": [
    "person = tinder_api_sms.get_person_json(testid)"
   ]
  },
  {
   "cell_type": "code",
   "execution_count": 7,
   "metadata": {},
   "outputs": [],
   "source": [
    "photos = utils.get_all_photo_urls(person,size=320)"
   ]
  },
  {
   "cell_type": "code",
   "execution_count": 8,
   "metadata": {},
   "outputs": [
    {
     "data": {
      "text/plain": [
       "[{'height': 320,\n",
       "  'url': 'https://images-ssl.gotinder.com/5a337b40c32aba580dad5e90/320x320_df420670-9048-4c32-9f9d-acb4f3171b9b.jpg',\n",
       "  'width': 320},\n",
       " {'height': 400,\n",
       "  'url': 'https://images-ssl.gotinder.com/5a337b40c32aba580dad5e90/320x400_e2f8a19e-bcc4-463a-8263-b148b5877342.jpg',\n",
       "  'width': 320},\n",
       " {'height': 320,\n",
       "  'url': 'https://images-ssl.gotinder.com/5a337b40c32aba580dad5e90/320x320_438d172d-6b60-4ce8-92c2-705725a65869.jpg',\n",
       "  'width': 320},\n",
       " {'height': 400,\n",
       "  'url': 'https://images-ssl.gotinder.com/5a337b40c32aba580dad5e90/320x400_6bd19fb7-8d08-41e7-805a-d95ff755d02e.jpg',\n",
       "  'width': 320},\n",
       " {'height': 320,\n",
       "  'url': 'https://images-ssl.gotinder.com/5a337b40c32aba580dad5e90/320x320_403f4b77-0e9e-4595-b047-dbbaebaea934.jpg',\n",
       "  'width': 320}]"
      ]
     },
     "execution_count": 8,
     "metadata": {},
     "output_type": "execute_result"
    }
   ],
   "source": [
    "photos"
   ]
  },
  {
   "cell_type": "code",
   "execution_count": 9,
   "metadata": {},
   "outputs": [],
   "source": [
    "from PIL import Image\n",
    "from io import BytesIO"
   ]
  }
 ],
 "metadata": {
  "kernelspec": {
   "display_name": "Python 3",
   "language": "python",
   "name": "python3"
  },
  "language_info": {
   "codemirror_mode": {
    "name": "ipython",
    "version": 3
   },
   "file_extension": ".py",
   "mimetype": "text/x-python",
   "name": "python",
   "nbconvert_exporter": "python",
   "pygments_lexer": "ipython3",
   "version": "3.6.8"
  }
 },
 "nbformat": 4,
 "nbformat_minor": 2
}
